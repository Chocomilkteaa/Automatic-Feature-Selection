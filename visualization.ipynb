{
 "cells": [
  {
   "cell_type": "code",
   "execution_count": 13,
   "metadata": {},
   "outputs": [],
   "source": [
    "import pandas as pd\n",
    "import matplotlib.pyplot as plt\n",
    "import seaborn as sns\n",
    "\n",
    "%matplotlib inline"
   ]
  },
  {
   "cell_type": "code",
   "execution_count": null,
   "metadata": {},
   "outputs": [],
   "source": [
    "columns_result = pd.read_pickle('./Result/columns_result.pkl')\n",
    "columns_result.head()"
   ]
  },
  {
   "cell_type": "code",
   "execution_count": null,
   "metadata": {},
   "outputs": [],
   "source": [
    "scores_result = pd.read_pickle('./Result/scores_result.pkl')\n",
    "scores_result.head()"
   ]
  },
  {
   "cell_type": "code",
   "execution_count": null,
   "metadata": {},
   "outputs": [],
   "source": [
    "plt.subplots(2, 4, figsize=(16, 9))\n",
    "k = 1\n",
    "n_features = scores_result.shape[0]\n",
    "\n",
    "for method in ['UFS', 'SBS', 'RFE', 'Importance', 'Union', 'Intersection', 'Quorum', 'Greedy']:\n",
    "    cv_scores = scores_result[f'cv_{method}_LR']\n",
    "    test_scores = scores_result[f'test_{method}_LR']\n",
    "\n",
    "    plt.subplot(2, 4, k)\n",
    "    plt.title(method)\n",
    "    plt.plot(range(n_features), cv_scores, color='blue', linestyle='--', label='CV Score')\n",
    "    plt.plot(range(n_features), test_scores, color='red', linestyle='--', label='Test Score')\n",
    "    plt.legend()\n",
    "\n",
    "    k += 1"
   ]
  },
  {
   "cell_type": "code",
   "execution_count": null,
   "metadata": {},
   "outputs": [],
   "source": [
    "plt.subplots(2, 4, figsize=(16, 9))\n",
    "k = 1\n",
    "n_features = scores_result.shape[0]\n",
    "\n",
    "for method in ['UFS', 'SBS', 'RFE', 'Importance', 'Union', 'Intersection', 'Quorum', 'Greedy']:\n",
    "    cv_scores = scores_result[f'cv_{method}_GB']\n",
    "    test_scores = scores_result[f'test_{method}_GB']\n",
    "\n",
    "    plt.subplot(2, 4, k)\n",
    "    plt.title(method)\n",
    "    plt.plot(range(n_features), cv_scores, color='blue', linestyle='--', label='CV Score')\n",
    "    plt.plot(range(n_features), test_scores, color='red', linestyle='--', label='Test Score')\n",
    "    plt.legend()\n",
    "\n",
    "    k += 1"
   ]
  },
  {
   "cell_type": "code",
   "execution_count": null,
   "metadata": {},
   "outputs": [],
   "source": [
    "stopping_points = pd.read_pickle('./Result/stopping_points.pkl')\n",
    "stopping_points.head()"
   ]
  },
  {
   "cell_type": "code",
   "execution_count": null,
   "metadata": {},
   "outputs": [],
   "source": [
    "width=0.3\n",
    "feature_names = ['UFS', 'SBS', 'RFE', 'Importance', 'Union', 'Intersection', 'Quorum', 'Greedy']\n",
    "n = len(feature_names)\n",
    "\n",
    "plt.subplots(3, 2, figsize=(24, 16))\n",
    "for i, model_name in enumerate(['LR', 'GB']):\n",
    "    plt.subplot(3, 2, i+1)\n",
    "    plt.title(f'cv_{model_name}')\n",
    "    plt.xlabel('F1 Score')\n",
    "    plt.ylabel('Methods')\n",
    "    md = []\n",
    "    mp = []\n",
    "    ms = []\n",
    "    for feature_name in feature_names:\n",
    "        md.append(stopping_points[f'MaxDelta_cv_score_{feature_name}_{model_name}'])\n",
    "        mp.append(stopping_points[f'MinPerfReq_cv_score_{feature_name}_{model_name}'])\n",
    "        ms.append(stopping_points[f'MaxScore_cv_score_{feature_name}_{model_name}'])\n",
    "    plt.bar(x=range(n), height=md, width=width, label='MaxDelta')\n",
    "    plt.bar(x=[x+width for x in range(n)], height=mp, width=width, label='MinPerfReq')\n",
    "    plt.bar(x=[x+width*2 for x in range(n)], height=ms, width=width, label='MaxScore')\n",
    "    plt.xticks([x+width for x in range(n)], feature_names)\n",
    "    plt.xticks(rotation=20)\n",
    "    plt.legend()\n",
    "\n",
    "    plt.subplot(3, 2, i+3)\n",
    "    plt.title(f'test_{model_name}')\n",
    "    plt.xlabel('F1 Score')\n",
    "    plt.ylabel('Methods')\n",
    "    md = []\n",
    "    mp = []\n",
    "    ms = []\n",
    "    for feature_name in feature_names:\n",
    "        md.append(stopping_points[f'MaxDelta_test_score_{feature_name}_{model_name}'])\n",
    "        mp.append(stopping_points[f'MinPerfReq_test_score_{feature_name}_{model_name}'])\n",
    "        ms.append(stopping_points[f'MaxScore_test_score_{feature_name}_{model_name}'])\n",
    "    plt.bar(x=range(n), height=md, width=width, label='MaxDelta')\n",
    "    plt.bar(x=[x+width for x in range(n)], height=mp, width=width, label='MinPerfReq')\n",
    "    plt.bar(x=[x+width*2 for x in range(n)], height=ms, width=width, label='MaxScore')\n",
    "    plt.xticks([x+width for x in range(n)], feature_names)\n",
    "    plt.xticks(rotation=20)\n",
    "    plt.legend()\n",
    "\n",
    "    plt.subplot(3, 2, i+5)\n",
    "    plt.title(f'{model_name}')\n",
    "    plt.xlabel('# Features')\n",
    "    plt.ylabel('Methods')\n",
    "    md = []\n",
    "    mp = []\n",
    "    ms = []\n",
    "    for feature_name in feature_names:\n",
    "        md.append(stopping_points[f'MaxDelta_size_{feature_name}_{model_name}'])\n",
    "        mp.append(stopping_points[f'MinPerfReq_size_{feature_name}_{model_name}'])\n",
    "        ms.append(stopping_points[f'MaxScore_size_{feature_name}_{model_name}'])\n",
    "    plt.bar(x=range(n), height=md, width=width, label='MaxDelta')\n",
    "    plt.bar(x=[x+width for x in range(n)], height=mp, width=width, label='MinPerfReq')\n",
    "    plt.bar(x=[x+width*2 for x in range(n)], height=ms, width=width, label='MaxScore')\n",
    "    plt.xticks([x+width for x in range(n)], feature_names)\n",
    "    plt.xticks(rotation=20)\n",
    "    plt.legend()\n",
    "\n",
    "plt.tight_layout()"
   ]
  }
 ],
 "metadata": {
  "kernelspec": {
   "display_name": "ml",
   "language": "python",
   "name": "python3"
  },
  "language_info": {
   "codemirror_mode": {
    "name": "ipython",
    "version": 3
   },
   "file_extension": ".py",
   "mimetype": "text/x-python",
   "name": "python",
   "nbconvert_exporter": "python",
   "pygments_lexer": "ipython3",
   "version": "3.9.19"
  }
 },
 "nbformat": 4,
 "nbformat_minor": 2
}
